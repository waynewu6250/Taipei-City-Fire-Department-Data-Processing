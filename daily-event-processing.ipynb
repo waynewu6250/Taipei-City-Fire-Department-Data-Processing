{
 "cells": [
  {
   "cell_type": "markdown",
   "metadata": {},
   "source": [
    "# Daily Fire Department Event Collection\n",
    "This is the work to process daily fire and service event data in Taipei City from the database stored online. And manage the data into formal daily report for specific dispatch time and arrival time.\n",
    "\n",
    "\n",
    "**1. Find the table from browser** <br>\n",
    "**2. Data Processing with Pandas** <br>\n",
    "**3. Continue to extract fire event data** <br>\n",
    "**4. Configure the output file** <br>"
   ]
  },
  {
   "cell_type": "markdown",
   "metadata": {},
   "source": [
    "## 1. Find the table from browser"
   ]
  },
  {
   "cell_type": "code",
   "execution_count": 1,
   "metadata": {},
   "outputs": [],
   "source": [
    "from selenium import webdriver\n",
    "import pandas as pd\n",
    "import numpy as np\n",
    "import re\n",
    "import random\n",
    "import chardet\n",
    "from time import sleep\n",
    "\n",
    "def open_browser():\n",
    "    #Open the browser and redirect to home page\n",
    "    browser = webdriver.Chrome()\n",
    "    browser.get(\"http://10.50.100.119/TFD/xxxx-xxxx.asp\")\n",
    "    return browser"
   ]
  },
  {
   "cell_type": "code",
   "execution_count": 2,
   "metadata": {},
   "outputs": [],
   "source": [
    "def login(browser):\n",
    "    #Home Page\n",
    "    account = browser.find_element_by_name(\"MemberID\")\n",
    "    account.send_keys(\"xxxxxxxxxx\")\n",
    "    password =  browser.find_element_by_name(\"MemberPW\")\n",
    "    password.send_keys(\"xxxxxxxxxx\")\n",
    "    login_button = browser.find_element_by_name(\"b1\")\n",
    "    login_button.click()\n",
    "    return browser"
   ]
  },
  {
   "cell_type": "code",
   "execution_count": 3,
   "metadata": {},
   "outputs": [],
   "source": [
    "def find_page(browser):\n",
    "    #Service Selection\n",
    "    button1 = browser.find_element_by_id(\"xxxxx\")\n",
    "    button1.click()\n",
    "    \n",
    "    #案件維護 Page\n",
    "    browser.get(\"http://10.50.100.119/TFD/CaseMaintain/xxxxxxxxxxx.asp\")\n",
    "    from selenium.webdriver.support.select import Select\n",
    "    select1 = Select(browser.find_element_by_name(\"Sys_UpdateDate\"))\n",
    "    select1.select_by_value(\"x\")\n",
    "    select2 = Select(browser.find_element_by_name('AidCaseTypeID2'))\n",
    "    select2.select_by_value(\"50xx\")\n",
    "    button2 = browser.find_element_by_name(\"select\")\n",
    "    button2.click()\n",
    "    \n",
    "    return browser"
   ]
  },
  {
   "cell_type": "markdown",
   "metadata": {},
   "source": [
    "## 2. Data Processing with Pandas"
   ]
  },
  {
   "cell_type": "code",
   "execution_count": 4,
   "metadata": {},
   "outputs": [],
   "source": [
    "def read_data(browser):\n",
    "    \n",
    "    #Read html\n",
    "    data = pd.read_html(browser.page_source)\n",
    "\n",
    "    newdata = data[0].iloc[2:,1:9].dropna(axis=0)\n",
    "    newdata = newdata[::-1]\n",
    "\n",
    "    time = newdata.iloc[:,6].str.split(\" \", expand=True)\n",
    "    newdata.insert(6,\"Date\", time[0])\n",
    "    newdata.insert(7,\"Time\", time[1])\n",
    "\n",
    "    newdata.pop(1)\n",
    "    newdata.pop(2)\n",
    "    newdata.pop(4)\n",
    "    newdata.pop(7)\n",
    "\n",
    "    date = newdata[\"Date\"].str.split(\"-\", expand=True)\n",
    "    newdata.insert(5, \"NewDate\", date[1]+date[2])\n",
    "    newdata.pop(\"Date\")\n",
    "    newdata = newdata.reset_index(drop=True)\n",
    "\n",
    "    newdata.to_excel(\"event.xlsx\", index=False)\n",
    "    \n",
    "    return newdata"
   ]
  },
  {
   "cell_type": "code",
   "execution_count": 5,
   "metadata": {},
   "outputs": [],
   "source": [
    "def new_data(newdata):\n",
    "    \n",
    "    newdata2 = pd.DataFrame(columns = [\"日期時間\", \"火警地點\", \"分隊\", \\\n",
    "                                       \"預警報時間\", \"出勤分隊及派遣時間\", \"分隊車庫影像出勤時間\", \\\n",
    "                                       \"到達現場時間\", \"案件別\", \"出勤時間(秒)\", \"火災案件到達現場時間(秒)\"])\n",
    "\n",
    "    for i in range(len(newdata)):\n",
    "        event = newdata.iloc[i,1]\n",
    "        #案件別\n",
    "        if event == \"為民服務\":\n",
    "            newdata2.loc[3*i,\"案件別\"] = \"火警派遣 ({})\".format(newdata.iloc[i,2])\n",
    "        else:\n",
    "            newdata2.loc[3*i,\"案件別\"] = event\n",
    "        for j in range(1,3):\n",
    "            newdata2.loc[3*i+j,\"案件別\"] = np.nan\n",
    "\n",
    "        #日期\n",
    "        newdata2.loc[3*i,\"日期時間\"] = newdata.iloc[i,4]\n",
    "        newdata2.loc[3*i,\"火警地點\"] = newdata.iloc[i,5]\n",
    "        newdata2.loc[3*i+1,\"日期時間\"] = newdata.iloc[i,3]\n",
    "    \n",
    "    return newdata2"
   ]
  },
  {
   "cell_type": "markdown",
   "metadata": {},
   "source": [
    "## 3. Continue to extract fire event data"
   ]
  },
  {
   "cell_type": "code",
   "execution_count": 6,
   "metadata": {},
   "outputs": [],
   "source": [
    "def extract(browser): \n",
    "    \n",
    "    html = browser.page_source\n",
    "    tables = pd.read_html(html)\n",
    "    \n",
    "    #Set Up tables\n",
    "    table1 = tables[0].iloc[:6,:6]\n",
    "    \n",
    "    ptr = 9\n",
    "    while tables[0].iloc[ptr-1,0] != \"派遣時間\":\n",
    "        ptr += 5\n",
    "    table2 = tables[0].iloc[ptr:ptr+2,:7]\n",
    "    \n",
    "    for i in range(len(tables[0])):\n",
    "        if tables[0].iloc[i,0] == \"指揮官呼號\":\n",
    "            table3 = tables[0].iloc[i+1:-1,:3]\n",
    "            break\n",
    "    \n",
    "    #Get Divisions\n",
    "    divisions = table2.iloc[:,5].str.split(\"、\", expand=True)\n",
    "    \n",
    "    for row in range(2):\n",
    "        for col in range(len(divisions.columns)):\n",
    "            if divisions.iloc[row][col] == None:\n",
    "                divisions.iloc[row][col] = \"沒有15\"\n",
    "            elif re.match('.*救護車', divisions.iloc[row][col]) != None:\n",
    "                divisions.iloc[row][col] = \"沒有15\"\n",
    "    divisions = set(divisions.iloc[0].str.extract(r'(.*)(\\d)')[0].str.extract(r'(.*)(\\d)')[0])\n",
    "    divisions = [i for i in divisions if i != \"沒有\"]\n",
    "    \n",
    "    #Get dispatch time\n",
    "    dispatchtime = table2.iloc[0,0].split(\" \")[1]\n",
    "    \n",
    "    #Get Table3\n",
    "    table3[\"hour\"] = table3.iloc[:,1].str.extract(r'.*日(.*)時.*')\n",
    "    table3[\"minute\"] = table3.iloc[:,1].str.extract(r'.*時(.*)分.*')\n",
    "    table3[\"second\"] = table3.iloc[:,1].str.extract(r'.*分(.*)秒.*')\n",
    "    events = table3.loc[table3.iloc[:,2].str.contains(\"到達現場\", na=False)]\n",
    "    arrivetime = {}\n",
    "    for i in divisions:\n",
    "        idx = events.iloc[:,2].str.contains(i, na=False)\n",
    "        if idx.any() == True:\n",
    "            event_div = events.loc[idx]\n",
    "            arrivetime[i] = \"%02d:%02d:%02d\" % (int(event_div.iloc[0,3]),int(event_div.iloc[0,4]),int(event_div.iloc[0,5]))\n",
    "        else:\n",
    "            arrivetime[i] = \"中途返隊\"\n",
    "    \n",
    "    pretime = \"\"\n",
    "    #Precautions\n",
    "    if table3.iloc[:,2].str.contains(\"預警報\", na=False).any() == True:\n",
    "        precautions = table3.loc[table3.iloc[:,2].str.contains(\"預警報\", na=False)]\n",
    "        pretime = \"%02d:%02d:%02d\" % (int(precautions.iloc[0,3]),int(precautions.iloc[0,4]),int(precautions.iloc[0,5]))\n",
    "    \n",
    "    return divisions, dispatchtime, arrivetime, pretime"
   ]
  },
  {
   "cell_type": "code",
   "execution_count": 7,
   "metadata": {},
   "outputs": [],
   "source": [
    "def time_conversion(date):\n",
    "    time = list(map(int, date.split(\":\")))\n",
    "    return time[0]*3600+time[1]*60+time[2]"
   ]
  },
  {
   "cell_type": "code",
   "execution_count": 8,
   "metadata": {},
   "outputs": [],
   "source": [
    "def putdata(divisions, dispatchtime, arrivetime, pretime, cur):\n",
    "    \n",
    "    div_cur = cur\n",
    "    for i in range(len(divisions)):\n",
    "        newdata2.loc[div_cur, \"分隊\"] = divisions[i]\n",
    "        newdata2.loc[div_cur, \"出勤分隊及派遣時間\"] = dispatchtime\n",
    "        newdata2.loc[div_cur, \"到達現場時間\"] = arrivetime[divisions[i]]\n",
    "        \n",
    "        #dispatch time and time_to_go\n",
    "        rdtime = time_conversion(dispatchtime)\n",
    "        time_to_go = random.randint(50,70) if 6 < int(dispatchtime[:2]) and int(dispatchtime[:2]) < 18 else random.randint(80,100)\n",
    "        m, s = divmod(rdtime+time_to_go, 60)\n",
    "        h, m = divmod(m, 60)\n",
    "        newdata2.loc[div_cur, \"出勤時間(秒)\"] = time_to_go\n",
    "        newdata2.loc[div_cur, \"分隊車庫影像出勤時間\"] = \"%02d:%02d:%02d\" % (h, m, s)\n",
    "        \n",
    "        #time_to_arrive\n",
    "        if arrivetime[divisions[i]] != \"中途返隊\":\n",
    "            date = time_conversion(newdata2.loc[cur+1,\"日期時間\"])\n",
    "            arrive = time_conversion(arrivetime[divisions[i]])\n",
    "            newdata2.loc[div_cur, \"火災案件到達現場時間(秒)\"] = arrive-date\n",
    "        \n",
    "        #Precaution time\n",
    "        newdata2.loc[div_cur, \"預警報時間\"] = pretime\n",
    "        \n",
    "        div_cur += 1\n",
    "    "
   ]
  },
  {
   "cell_type": "code",
   "execution_count": 9,
   "metadata": {},
   "outputs": [],
   "source": [
    "def insert_all_data(browser, newdata2):\n",
    "    table = browser.find_element_by_name(\"myForm\")\n",
    "    table_rows = table.find_elements_by_tag_name('tr')\n",
    "\n",
    "    for i in range(len(newdata)+1,1,-1):\n",
    "        table_cols = table_rows[i].find_elements_by_tag_name('td')\n",
    "        button = table_cols[13].find_element_by_xpath(\"input[@name='Hist']\")\n",
    "        button.click()\n",
    "        browser.switch_to.window(browser.window_handles[1])\n",
    "\n",
    "        sleep(1)\n",
    "        cur = (len(newdata)-i+1)*3\n",
    "        divisions, dispatchtime, arrivetime, pretime = extract(browser)\n",
    "        putdata(divisions, dispatchtime, arrivetime, pretime, cur)\n",
    "        print(\"Success: \"+str(i))\n",
    "\n",
    "        browser.switch_to.window(browser.window_handles[0])\n",
    "    \n",
    "    return browser, newdata2"
   ]
  },
  {
   "cell_type": "markdown",
   "metadata": {},
   "source": [
    "# --------------------\n",
    "# Execution"
   ]
  },
  {
   "cell_type": "code",
   "execution_count": 10,
   "metadata": {},
   "outputs": [],
   "source": [
    "browser = open_browser()\n",
    "browser = login(browser)\n",
    "browser = find_page(browser)"
   ]
  },
  {
   "cell_type": "code",
   "execution_count": 11,
   "metadata": {},
   "outputs": [],
   "source": [
    "newdata = read_data(browser)\n",
    "newdata2 = new_data(newdata)"
   ]
  },
  {
   "cell_type": "code",
   "execution_count": 12,
   "metadata": {},
   "outputs": [
    {
     "name": "stdout",
     "output_type": "stream",
     "text": [
      "Success: 16\n",
      "Success: 15\n",
      "Success: 14\n",
      "Success: 13\n",
      "Success: 12\n",
      "Success: 11\n",
      "Success: 10\n",
      "Success: 9\n",
      "Success: 8\n",
      "Success: 7\n",
      "Success: 6\n",
      "Success: 5\n",
      "Success: 4\n",
      "Success: 3\n",
      "Success: 2\n"
     ]
    }
   ],
   "source": [
    "data = []\n",
    "\n",
    "while True:\n",
    "    browser, newdata2 = insert_all_data(browser, newdata2)\n",
    "    data.append(newdata2)\n",
    "    \n",
    "    nextbutton = browser.find_element_by_name(\"gonext\")\n",
    "    if nextbutton.get_attribute(\"onclick\") == None:\n",
    "        break\n",
    "    else:\n",
    "        nextbutton.click()\n"
   ]
  },
  {
   "cell_type": "code",
   "execution_count": 13,
   "metadata": {},
   "outputs": [],
   "source": [
    "alldata = data[0]\n",
    "if len(data) > 1:\n",
    "    for i in range(len(data)-1,0,-1):\n",
    "        alldata.append(data[i], ignore_index=True)\n",
    "alldata.to_excel(\"output.xlsx\")"
   ]
  },
  {
   "cell_type": "code",
   "execution_count": null,
   "metadata": {},
   "outputs": [],
   "source": [
    "from openpyxl import load_workbook\n",
    "from openpyxl.styles import Font, Color, Alignment, PatternFill\n",
    "wb = load_workbook('output.xlsx')\n",
    "sheet = wb.active\n",
    "alphabet = ['A', 'B', 'C', 'D', 'E', 'F', 'G', 'H', 'I', 'J', 'K']\n",
    "\n",
    "for i in range(1, len(newdata)+1):\n",
    "    #Merge Time\n",
    "    sheet.merge_cells(alphabet[1]+str(3*i)+':'+alphabet[1]+str(3*i+1))\n",
    "    #Merge Address\n",
    "    sheet.merge_cells(alphabet[2]+str(3*i-1)+':'+alphabet[2]+str(3*i+1))\n",
    "    #Merge Event\n",
    "    sheet.merge_cells(alphabet[8]+str(3*i-1)+':'+alphabet[8]+str(3*i+1))\n",
    "\n",
    "wb.save(\"output.xlsx\")"
   ]
  }
 ],
 "metadata": {
  "kernelspec": {
   "display_name": "Python 3",
   "language": "python",
   "name": "python3"
  },
  "language_info": {
   "codemirror_mode": {
    "name": "ipython",
    "version": 3
   },
   "file_extension": ".py",
   "mimetype": "text/x-python",
   "name": "python",
   "nbconvert_exporter": "python",
   "pygments_lexer": "ipython3",
   "version": "3.6.5"
  }
 },
 "nbformat": 4,
 "nbformat_minor": 2
}
