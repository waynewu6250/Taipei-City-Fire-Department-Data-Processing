{
 "cells": [
  {
   "cell_type": "code",
   "execution_count": 4,
   "metadata": {},
   "outputs": [],
   "source": [
    "from selenium import webdriver\n",
    "import pandas as pd\n",
    "import numpy as np\n",
    "import re\n",
    "import random\n",
    "import chardet\n",
    "from time import sleep\n",
    "from openpyxl import load_workbook\n",
    "from openpyxl.styles import Font, Color, Alignment, PatternFill\n",
    "from utils_locate import *"
   ]
  },
  {
   "cell_type": "code",
   "execution_count": 5,
   "metadata": {},
   "outputs": [],
   "source": [
    "browser = open_browser()\n",
    "browser = login(browser)\n",
    "browser = find_page(browser, \"5\", \"20\")"
   ]
  },
  {
   "cell_type": "code",
   "execution_count": 6,
   "metadata": {},
   "outputs": [
    {
     "name": "stdout",
     "output_type": "stream",
     "text": [
      "Success: 7\n",
      "Success: 8\n",
      "Success: 9\n",
      "Success: 13\n",
      "Success: 5\n",
      "Success: 8\n",
      "Success: 15\n"
     ]
    }
   ],
   "source": [
    "data = []\n",
    "number = 0\n",
    "\n",
    "while True:\n",
    "    \n",
    "    newdata = read_data(browser)\n",
    "    browser, newdata = get_dispatcher(browser, newdata)\n",
    "    data.append(newdata)\n",
    "    \n",
    "    nextbutton = browser.find_element_by_name(\"gonext\")\n",
    "    if nextbutton.get_attribute(\"onclick\") == None:\n",
    "        break\n",
    "    else:\n",
    "        nextbutton.click()\n",
    "\n",
    "alldata = data[0]\n",
    "if len(data) > 1:\n",
    "    for i in range(1,len(data)):\n",
    "        alldata = alldata.append(data[i], ignore_index=True)\n",
    "alldata.to_excel(\"output.xlsx\")\n",
    "import os\n",
    "os.startfile(\"output.xlsx\")"
   ]
  },
  {
   "cell_type": "code",
   "execution_count": 7,
   "metadata": {},
   "outputs": [],
   "source": [
    "os.startfile(\"---臺北市政府民政局門牌整合檢索系統---.url\")"
   ]
  },
  {
   "cell_type": "code",
   "execution_count": null,
   "metadata": {},
   "outputs": [],
   "source": []
  }
 ],
 "metadata": {
  "kernelspec": {
   "display_name": "Python 3",
   "language": "python",
   "name": "python3"
  },
  "language_info": {
   "codemirror_mode": {
    "name": "ipython",
    "version": 3
   },
   "file_extension": ".py",
   "mimetype": "text/x-python",
   "name": "python",
   "nbconvert_exporter": "python",
   "pygments_lexer": "ipython3",
   "version": "3.7.0"
  }
 },
 "nbformat": 4,
 "nbformat_minor": 2
}
