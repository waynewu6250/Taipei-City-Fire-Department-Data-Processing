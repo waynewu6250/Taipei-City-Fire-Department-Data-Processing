{
 "cells": [
  {
   "cell_type": "markdown",
   "metadata": {},
   "source": [
    "# Daily Fire Department Event Collection\n",
    "**1. Find the table from browser** <br>\n",
    "**2. Data Processing with Pandas** <br>\n",
    "**3. Continue to extract fire event data** <br>\n",
    "**4. Configure the output file** <br>"
   ]
  },
  {
   "cell_type": "code",
   "execution_count": null,
   "metadata": {},
   "outputs": [],
   "source": [
    "from selenium import webdriver\n",
    "import pandas as pd\n",
    "import numpy as np\n",
    "import re\n",
    "import random\n",
    "import chardet\n",
    "from time import sleep\n",
    "from openpyxl import load_workbook\n",
    "from openpyxl.styles import Font, Color, Alignment, PatternFill\n",
    "from utils import *"
   ]
  },
  {
   "cell_type": "code",
   "execution_count": null,
   "metadata": {},
   "outputs": [],
   "source": [
    "browser = open_browser()\n",
    "browser = login(browser)\n",
    "browser = find_page(browser)\n",
    "\n",
    "data = []\n",
    "\n",
    "while True:\n",
    "    \n",
    "    newdata = read_data(browser)\n",
    "    newdata2 = new_data(newdata)\n",
    "    \n",
    "    browser, newdata2 = insert_all_data(browser, newdata2, newdata)\n",
    "    data.append(newdata2)\n",
    "    \n",
    "    nextbutton = browser.find_element_by_name(\"gonext\")\n",
    "    if nextbutton.get_attribute(\"onclick\") == None:\n",
    "        break\n",
    "    else:\n",
    "        nextbutton.click()"
   ]
  },
  {
   "cell_type": "code",
   "execution_count": null,
   "metadata": {},
   "outputs": [],
   "source": [
    "alldata = data[len(data)-1]\n",
    "if len(data) > 1:\n",
    "    for i in range(len(data)-2,-1,-1):\n",
    "        alldata = alldata.append(data[i], ignore_index=True)\n",
    "alldata.to_excel(\"output.xlsx\")\n",
    "\n",
    "wb = load_workbook('output.xlsx')\n",
    "sheet = wb.active\n",
    "alphabet = ['A', 'B', 'C', 'D', 'E', 'F', 'G', 'H', 'I', 'J', 'K']\n",
    "\n",
    "for i in range(1, len(newdata)+1):\n",
    "    #Merge Time\n",
    "    sheet.merge_cells(alphabet[1]+str(3*i)+':'+alphabet[1]+str(3*i+1))\n",
    "    #Merge Address\n",
    "    sheet.merge_cells(alphabet[2]+str(3*i-1)+':'+alphabet[2]+str(3*i+1))\n",
    "    #Merge Event\n",
    "    sheet.merge_cells(alphabet[8]+str(3*i-1)+':'+alphabet[8]+str(3*i+1))\n",
    "\n",
    "wb.save(\"output.xlsx\")"
   ]
  }
 ],
 "metadata": {
  "kernelspec": {
   "display_name": "Python 3",
   "language": "python",
   "name": "python3"
  },
  "language_info": {
   "codemirror_mode": {
    "name": "ipython",
    "version": 3
   },
   "file_extension": ".py",
   "mimetype": "text/x-python",
   "name": "python",
   "nbconvert_exporter": "python",
   "pygments_lexer": "ipython3",
   "version": "3.6.5"
  }
 },
 "nbformat": 4,
 "nbformat_minor": 2
}
